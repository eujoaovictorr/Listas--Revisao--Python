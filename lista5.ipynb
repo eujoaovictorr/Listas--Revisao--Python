{
 "cells": [
  {
   "cell_type": "markdown",
   "metadata": {},
   "source": [
    "<h1 style=\"text-align: center\">INSTITUTO FEDERAL DO CEARÁ</h1>\n",
    "<h2 style=\"text-align: center\">CAMPUS MARANGUAPE</h2>\n",
    "<h3 style=\"text-align: center\">Programação Orientada a Objetos</h3>\n",
    "<h3 style=\"text-align: center\">Prof. Thomaz Maia</h3>\n",
    "<h1 style=\"text-align: center\">Lista de Exercícios 5 - For</h1>"
   ]
  },
  {
   "cell_type": "markdown",
   "metadata": {},
   "source": [
    "**Aluno: João Victor Lima Gaspar**"
   ]
  },
  {
   "cell_type": "markdown",
   "metadata": {},
   "source": [
    "**1. Faça um programa que leia um número e diga se ele é primo ou não. Utilize a instrução FOR**"
   ]
  },
  {
   "cell_type": "code",
   "execution_count": 14,
   "metadata": {},
   "outputs": [],
   "source": [
    "num = int(input(\"Digite um número: \"))\n",
    "primo = True"
   ]
  },
  {
   "cell_type": "code",
   "execution_count": 15,
   "metadata": {},
   "outputs": [
    {
     "name": "stdout",
     "output_type": "stream",
     "text": [
      "O número 3 é primo.\n"
     ]
    }
   ],
   "source": [
    "if num > 1:\n",
    "    for i in range(2, num):\n",
    "        if (num % i) == 0:\n",
    "            print(f\"O número {num} não é primo.\")\n",
    "            break\n",
    "        else:\n",
    "            print(f\"O número {num} é primo.\")\n",
    "else:\n",
    "    print(\"Digite um número maior que 1!\")"
   ]
  },
  {
   "cell_type": "markdown",
   "metadata": {},
   "source": [
    "**2. Crie um programa para ler uma frase e escrever quantas vezes aparece a letra ‘a’. NÃO utilize a função COUNT.**"
   ]
  },
  {
   "cell_type": "code",
   "execution_count": 23,
   "metadata": {},
   "outputs": [],
   "source": [
    "frase = input(\"Digite uma frase: \")\n",
    "cont_a = 0"
   ]
  },
  {
   "cell_type": "code",
   "execution_count": 24,
   "metadata": {},
   "outputs": [],
   "source": [
    "for letra in frase:\n",
    "    if letra == 'a' or letra == 'A':\n",
    "        cont_a += 1"
   ]
  },
  {
   "cell_type": "code",
   "execution_count": 25,
   "metadata": {},
   "outputs": [
    {
     "name": "stdout",
     "output_type": "stream",
     "text": [
      "A frase que você digitou foi 'A menina foi brincar na rua'\n",
      "A letra 'a' ou 'A' aparece 5 vezes na frase\n"
     ]
    }
   ],
   "source": [
    "print(f\"A frase que você digitou foi '{frase}'\")\n",
    "print(f\"A letra 'a' ou 'A' aparece {cont_a} vezes na frase\")"
   ]
  },
  {
   "cell_type": "markdown",
   "metadata": {},
   "source": [
    "**3. Desenvolva um programa que leia Nome, Idade e Sexo de 4 pessoas. No final do programa mostre:**\n",
    "\n",
    "**(a) A média de idade do grupo**\n",
    "\n",
    "**(b) Qual o nome do homem mais velho**\n",
    "\n",
    "**(c) Quantas mulheres têm menos de 20 anos**"
   ]
  },
  {
   "cell_type": "code",
   "execution_count": 78,
   "metadata": {},
   "outputs": [],
   "source": [
    "soma_idade = 0\n",
    "idade_homem_mais_velho = 0\n",
    "nome_homem_mais_velho = \"\"\n",
    "contagem_mulheres_menos_20 = 0"
   ]
  },
  {
   "cell_type": "code",
   "execution_count": 79,
   "metadata": {},
   "outputs": [],
   "source": [
    "for i in range(1, 5):\n",
    "    nome = input(\"Digite o nome: \")\n",
    "    idade = int(input(\"Digite a idade: \"))\n",
    "    sexo = input(\"Digite o sexo (M/F): \").upper()\n",
    "\n",
    "    soma_idade += idade\n",
    "\n",
    "    if sexo == 'M' and idade > idade_homem_mais_velho:\n",
    "        idade_homem_mais_velho = idade\n",
    "        nome_homem_mais_velho = nome\n",
    "\n",
    "    if sexo == 'F' and idade < 20:\n",
    "        contagem_mulheres_menos_20 += 1\n",
    "\n",
    "    media_idade = soma_idade / 4"
   ]
  },
  {
   "cell_type": "code",
   "execution_count": 80,
   "metadata": {},
   "outputs": [
    {
     "name": "stdout",
     "output_type": "stream",
     "text": [
      "Média de idade do grupo: 15.00 anos.\n",
      "Homem mais velho: pedro (17 anos).\n",
      "Mulheres com menos de 20 anos: 2.\n"
     ]
    }
   ],
   "source": [
    "print(f\"Média de idade do grupo: {media_idade:.2f} anos.\")\n",
    "\n",
    "if nome_homem_mais_velho:\n",
    "    print(f\"Homem mais velho: {nome_homem_mais_velho} ({idade_homem_mais_velho} anos).\")\n",
    "else:\n",
    "    print(\"Não há homens no grupo.\")\n",
    "\n",
    "print(f\"Mulheres com menos de 20 anos: {contagem_mulheres_menos_20}.\")"
   ]
  }
 ],
 "metadata": {
  "kernelspec": {
   "display_name": "Python 3",
   "language": "python",
   "name": "python3"
  },
  "language_info": {
   "codemirror_mode": {
    "name": "ipython",
    "version": 3
   },
   "file_extension": ".py",
   "mimetype": "text/x-python",
   "name": "python",
   "nbconvert_exporter": "python",
   "pygments_lexer": "ipython3",
   "version": "3.11.1"
  }
 },
 "nbformat": 4,
 "nbformat_minor": 2
}
