{
 "cells": [
  {
   "cell_type": "markdown",
   "metadata": {},
   "source": [
    "<h1 style=\"text-align: center\">INSTITUTO FEDERAL DO CEARÁ</h1>\n",
    "<h2 style=\"text-align: center\">CAMPUS MARANGUAPE</h2>\n",
    "<h3 style=\"text-align: center\">Programação Orientada a Objetos</h3>\n",
    "<h3 style=\"text-align: center\">Prof. Thomaz Maia</h3>\n",
    "<h1 style=\"text-align: center\">Lista de Exercícios 6 - Tuplas</h1>"
   ]
  },
  {
   "cell_type": "markdown",
   "metadata": {},
   "source": [
    "**Aluno: João Victor Lima Gaspar**"
   ]
  },
  {
   "cell_type": "markdown",
   "metadata": {},
   "source": [
    "**1. Crie um programa que tenha uma tupla totalmente preenchida com uma contagem por extenso de 0 a 20. Seu programa deverá ler um número(entre 0 e 20) e mostrá-lo por extenso. Caso o número não esteja no intervalo, o programa deve ler outro.**"
   ]
  },
  {
   "cell_type": "code",
   "execution_count": 22,
   "metadata": {},
   "outputs": [],
   "source": [
    "\n",
    "numeros_extenso = ('Zero', 'Um', 'Dois', 'Três', 'Quatro', 'Cinco', \"Seis\", 'Sete', 'Oito', 'Nove', 'Dez', \n",
    "    'Onze', 'Doze', 'Treze','Catorze', 'Quinze', 'Dezesseis', 'Dezessete', 'Dezoito', 'Dezenove', 'Vinte'\n",
    "    )"
   ]
  },
  {
   "cell_type": "code",
   "execution_count": 24,
   "metadata": {},
   "outputs": [
    {
     "name": "stdout",
     "output_type": "stream",
     "text": [
      "O número 17 por extenso é: Dezessete\n"
     ]
    }
   ],
   "source": [
    "while True:\n",
    "        num = int(input(\"Digite um número entre 0 e 20: \"))\n",
    "        if (num <= 0) or (num <= 20):\n",
    "            print(f\"O número {num} por extenso é: {numeros_extenso[num]}\")\n",
    "            break\n",
    "        else:\n",
    "            print(\"Número fora do intervalo. Tente novamente.\")"
   ]
  },
  {
   "cell_type": "markdown",
   "metadata": {},
   "source": [
    "**2. Crie um programa para gerar 5 números aleatórios, coloque-os dentro de uma tupla e encontre o maior e o menor valor da sequência.**"
   ]
  },
  {
   "cell_type": "code",
   "execution_count": 12,
   "metadata": {},
   "outputs": [],
   "source": [
    "import random"
   ]
  },
  {
   "cell_type": "code",
   "execution_count": 13,
   "metadata": {},
   "outputs": [],
   "source": [
    "tupla = ()\n",
    "\n",
    "maior = -99999\n",
    "menor = 999999\n",
    "\n",
    "for i in range(5):\n",
    "    tupla += tuple([random.randint(0, 9)])\n",
    "    if tupla[i] > maior:\n",
    "        maior = tupla[i]\n",
    "    if tupla[i] < menor:\n",
    "        menor = tupla[i]"
   ]
  },
  {
   "cell_type": "code",
   "execution_count": 14,
   "metadata": {},
   "outputs": [
    {
     "name": "stdout",
     "output_type": "stream",
     "text": [
      "(0, 8, 6, 7, 1)\n",
      "Maior = 8\n",
      "Menor = 0\n"
     ]
    }
   ],
   "source": [
    "print(tupla)\n",
    "print(f\"Maior = {maior}\")\n",
    "print(f\"Menor = {menor}\")"
   ]
  },
  {
   "cell_type": "markdown",
   "metadata": {},
   "source": [
    "**3. Crie uma tupla preenchida com os países top10 no quadro de medalhas das olimpíadas de Tóquio 2020 (que aconteceram em 2021). Depois faça funções que receba essa tupla e retorne:**\n",
    "\n",
    "**• Apenas os 5 primeiros colocados.**\n",
    "\n",
    "**• Os últimos 5 colocados**\n",
    "\n",
    "**• Uma lista com os nomes em ordem alfabética.**\n",
    "\n",
    "**• Em que posição está a China?**"
   ]
  },
  {
   "cell_type": "code",
   "execution_count": 33,
   "metadata": {},
   "outputs": [],
   "source": [
    "quadro_medalhas = ('Estados Unidos', 'China', 'Japão', 'ROC', 'Grã-Bretanha', 'Alemanha', 'Austrália', 'Holanda', 'França', 'Itália')"
   ]
  },
  {
   "cell_type": "code",
   "execution_count": 34,
   "metadata": {},
   "outputs": [],
   "source": [
    "def cinco_primeiros(paises):\n",
    "    return paises[:5]"
   ]
  },
  {
   "cell_type": "code",
   "execution_count": 35,
   "metadata": {},
   "outputs": [],
   "source": [
    "def ultimos_cinco(paises):\n",
    "    return paises[-5:]"
   ]
  },
  {
   "cell_type": "code",
   "execution_count": 36,
   "metadata": {},
   "outputs": [],
   "source": [
    "def ordem_alfabetica(paises):\n",
    "    return sorted(paises)"
   ]
  },
  {
   "cell_type": "code",
   "execution_count": 37,
   "metadata": {},
   "outputs": [],
   "source": [
    "def posicao_china(paises, pais_alvo='China'):\n",
    "    return paises.index(pais_alvo) + 1"
   ]
  },
  {
   "cell_type": "code",
   "execution_count": 38,
   "metadata": {},
   "outputs": [
    {
     "name": "stdout",
     "output_type": "stream",
     "text": [
      "5 primeiros colocados: ('Estados Unidos', 'China', 'Japão', 'ROC', 'Grã-Bretanha')\n",
      "--------------------\n",
      "Últimos 5 colocados: ('Alemanha', 'Austrália', 'Holanda', 'França', 'Itália')\n",
      "--------------------\n",
      "Lista em ordem alfabetica: ['Alemanha', 'Austrália', 'China', 'Estados Unidos', 'França', 'Grã-Bretanha', 'Holanda', 'Itália', 'Japão', 'ROC']\n",
      "--------------------\n",
      "Posição da China: 2\n"
     ]
    }
   ],
   "source": [
    "print(f\"5 primeiros colocados: {cinco_primeiros(quadro_medalhas)}\")\n",
    "print('-' * 20)\n",
    "print(f\"Últimos 5 colocados: {ultimos_cinco(quadro_medalhas)}\")\n",
    "print('-' * 20)\n",
    "print(f\"Lista em ordem alfabetica: {ordem_alfabetica(quadro_medalhas)}\")\n",
    "print('-' * 20)\n",
    "print(f\"Posição da China: {posicao_china(quadro_medalhas)}\")"
   ]
  },
  {
   "cell_type": "markdown",
   "metadata": {},
   "source": [
    "**4. Desenvolva um programa que leia 5 números e guarde-os em uma tupla. Ao final mostre:**\n",
    "\n",
    "**• Quantas vezes o número 1 apareceu.**\n",
    "\n",
    "**• Em que posição foi digitado o primeiro 0.**\n",
    "\n",
    "**• Quais foram os números ímpares**"
   ]
  },
  {
   "cell_type": "code",
   "execution_count": 11,
   "metadata": {},
   "outputs": [
    {
     "name": "stdout",
     "output_type": "stream",
     "text": [
      "(23, 3, 0, 2, 1)\n",
      "1s: 1\n",
      "Posição do zero: 2\n",
      "Impares: 3\n"
     ]
    }
   ],
   "source": [
    "tupla = ()\n",
    "\n",
    "for i in range(5):\n",
    "    N = int(input(f\"Número {i}: \"))\n",
    "    tupla += tuple([N])\n",
    "\n",
    "contador = 0\n",
    "impares = 0\n",
    "posicao = -1\n",
    "\n",
    "for i in range(len(tupla)):\n",
    "    item = tupla[i]\n",
    "    if item == 1:\n",
    "        contador += 1\n",
    "    if item == 0:\n",
    "        posicao = i        \n",
    "    if item % 2 == 1:\n",
    "        impares += 1\n",
    "\n",
    "print(tupla)\n",
    "print(f\"1s: {contador}\")\n",
    "print(f\"Posição do zero: {posicao}\")\n",
    "print(f\"Impares: {impares}\")\n",
    "\n"
   ]
  },
  {
   "cell_type": "markdown",
   "metadata": {},
   "source": [
    "**5. Crie um tupla única contendo o nome dos 10 primeiros países no quadro de medalhas das olimpíadas de Tóquio 2020 e o total de medalhas obtidos por cada país na sequência. No final mostre-os de forma tabular.**"
   ]
  },
  {
   "cell_type": "code",
   "execution_count": 33,
   "metadata": {},
   "outputs": [],
   "source": [
    "quadro_de_medalhas = (\n",
    "    (\"Estados Unidos\", 39, 41, 33),\n",
    "    (\"China\", 38, 32, 18),\n",
    "    (\"Japão\", 27, 14, 17),\n",
    "    (\"Austrália\", 17, 7, 22),\n",
    "    (\"Comitê Russo\", 16, 23, 22),\n",
    "    (\"Grã-Bretanha\", 16, 18, 17),\n",
    "    (\"Alemanha\", 10, 11, 16),\n",
    "    (\"França\", 10, 12, 11),\n",
    "    (\"Itália\", 10, 10, 20),\n",
    "    (\"Holanda\", 9, 12, 14),\n",
    ")"
   ]
  },
  {
   "cell_type": "code",
   "execution_count": 36,
   "metadata": {},
   "outputs": [
    {
     "name": "stdout",
     "output_type": "stream",
     "text": [
      "país                 Ouro       Prata      Bronze    \n",
      "Estados Unidos       39         41         33        \n",
      "China                38         32         18        \n",
      "Japão                27         14         17        \n",
      "Austrália            17         7          22        \n",
      "Comitê Russo         16         23         22        \n",
      "Grã-Bretanha         16         18         17        \n",
      "Alemanha             10         11         16        \n",
      "França               10         12         11        \n",
      "Itália               10         10         20        \n",
      "Holanda              9          12         14        \n"
     ]
    }
   ],
   "source": [
    "print(f\"{'país':<20} {'Ouro':<10} {'Prata':<10} {'Bronze':<10}\")\n",
    "for pais, ouro, prata, bronze in quadro_de_medalhas:\n",
    "    print(f'{pais:<20} {ouro:<10} {prata:<10} {bronze:<10}')"
   ]
  },
  {
   "cell_type": "markdown",
   "metadata": {},
   "source": [
    "**6. Crie um programa que tenha uma tupla com várias palavras e em seguida diga quais as vogais de cada palavra**"
   ]
  },
  {
   "cell_type": "code",
   "execution_count": 4,
   "metadata": {},
   "outputs": [],
   "source": [
    "\n",
    "def vogais_na_palavra(palavra):\n",
    "    vogais = [letra for letra in palavra if letra.lower() in 'aeiou']\n",
    "    return vogais"
   ]
  },
  {
   "cell_type": "code",
   "execution_count": 5,
   "metadata": {},
   "outputs": [],
   "source": [
    "palavras = ('python', 'programação', 'ciência', 'dados', 'inteligência', 'artificial')"
   ]
  },
  {
   "cell_type": "code",
   "execution_count": 6,
   "metadata": {},
   "outputs": [
    {
     "name": "stdout",
     "output_type": "stream",
     "text": [
      "Vogais em \"python\": ['o']\n",
      "Vogais em \"programação\": ['o', 'a', 'a', 'o']\n",
      "Vogais em \"ciência\": ['i', 'i', 'a']\n",
      "Vogais em \"dados\": ['a', 'o']\n",
      "Vogais em \"inteligência\": ['i', 'e', 'i', 'i', 'a']\n",
      "Vogais em \"artificial\": ['a', 'i', 'i', 'i', 'a']\n"
     ]
    }
   ],
   "source": [
    "for palavra in palavras:\n",
    "    vogais = vogais_na_palavra(palavra)\n",
    "    print(f'Vogais em \"{palavra}\": {vogais}')"
   ]
  }
 ],
 "metadata": {
  "kernelspec": {
   "display_name": "Python 3",
   "language": "python",
   "name": "python3"
  },
  "language_info": {
   "codemirror_mode": {
    "name": "ipython",
    "version": 3
   },
   "file_extension": ".py",
   "mimetype": "text/x-python",
   "name": "python",
   "nbconvert_exporter": "python",
   "pygments_lexer": "ipython3",
   "version": "3.11.1"
  }
 },
 "nbformat": 4,
 "nbformat_minor": 2
}
