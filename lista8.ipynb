{
 "cells": [
  {
   "cell_type": "markdown",
   "metadata": {},
   "source": [
    "<h1 style=\"text-align: center\">INSTITUTO FEDERAL DO CEARÁ</h1>\n",
    "<h2 style=\"text-align: center\">CAMPUS MARANGUAPE</h2>\n",
    "<h3 style=\"text-align: center\">Programação Orientada a Objetos</h3>\n",
    "<h3 style=\"text-align: center\">Prof. Thomaz Maia</h3>\n",
    "<h1 style=\"text-align: center\">Lista de Exercícios 8 - Dicionário</h1>"
   ]
  },
  {
   "cell_type": "markdown",
   "metadata": {},
   "source": [
    "**Aluno: João Victor Lima Gaspar**"
   ]
  },
  {
   "cell_type": "markdown",
   "metadata": {},
   "source": [
    "**1. Faça um programa que leia o NOME e a MÉDIA de um aluno. Verifique e guarde também a SITUAÇÃO do aluno em um dicionário. No final mostre o conteúdo da estrutura na tela.**"
   ]
  },
  {
   "cell_type": "code",
   "execution_count": 1,
   "metadata": {},
   "outputs": [
    {
     "name": "stdout",
     "output_type": "stream",
     "text": [
      "\n",
      "Estrutura de dados:\n",
      "João : Média 7.50, Situação: Aprovado\n",
      "Xico: Média 8.00, Situação: Aprovado\n"
     ]
    }
   ],
   "source": [
    "\n",
    "alunos = {}\n",
    "\n",
    "num_alunos = int(input(\"Quantos alunos na sua classe? \"))\n",
    "for _ in range(num_alunos):\n",
    "    nome = input(\"Nome do aluno: \")\n",
    "    media = float(input(\"Média do aluno: \"))\n",
    "    situacao = 'Aprovado' if media >= 6 else 'Reprovado'\n",
    "    alunos[nome] = {'Média': media, 'Situação': situacao}\n",
    "\n",
    "\n",
    "print(\"\\nEstrutura de dados:\")\n",
    "for nome, info in alunos.items():\n",
    "    print(f\"{nome}: Média {info['Média']:.2f}, Situação: {info['Situação']}\")\n"
   ]
  },
  {
   "cell_type": "markdown",
   "metadata": {},
   "source": [
    "**2. Crie um programa onde 4 jogadores joguem um dado e tenham resultados aleatórios. Guarde esses resultados em um dicionário. No final, coloque esse dicionário em ordem, sabendo que o vencedor tirou o maior número nos dados.**"
   ]
  },
  {
   "cell_type": "code",
   "execution_count": 6,
   "metadata": {},
   "outputs": [],
   "source": [
    "import random\n",
    "\n",
    "resultados = {}"
   ]
  },
  {
   "cell_type": "code",
   "execution_count": 7,
   "metadata": {},
   "outputs": [],
   "source": [
    "for jogador in range(1, 5):\n",
    "    resultado = random.randint(1, 6)\n",
    "    resultados[f\"Jogador {jogador}\"] = resultado"
   ]
  },
  {
   "cell_type": "code",
   "execution_count": 8,
   "metadata": {},
   "outputs": [
    {
     "name": "stdout",
     "output_type": "stream",
     "text": [
      "Resultados antes da ordenação:\n",
      "Jogador 1: 1\n",
      "Jogador 2: 3\n",
      "Jogador 3: 6\n",
      "Jogador 4: 2\n",
      "\n",
      "Resultados ordenados:\n",
      "Jogador 3: 6\n",
      "Jogador 2: 3\n",
      "Jogador 4: 2\n",
      "Jogador 1: 1\n",
      "\n",
      "Vencedor: Jogador 3\n"
     ]
    }
   ],
   "source": [
    "print(\"Resultados antes da ordenação:\")\n",
    "for jogador, resultado in resultados.items():\n",
    "    print(f\"{jogador}: {resultado}\")\n",
    "\n",
    "resultados_ordenados = dict(sorted(resultados.items(), key=lambda item: item[1], reverse=True))\n",
    "\n",
    "print(\"\\nResultados ordenados:\")\n",
    "for jogador, resultado in resultados_ordenados.items():\n",
    "    print(f\"{jogador}: {resultado}\")\n",
    "\n",
    "vencedor = list(resultados_ordenados.keys())[0]\n",
    "print(f\"\\nVencedor: {vencedor}\")"
   ]
  },
  {
   "cell_type": "markdown",
   "metadata": {},
   "source": [
    "**3. Crie um programa que gerencie o aproveitamento de um jogador de futebol. O programa vai ler o NOME do jogador e quantas PARTIDAS ele jogou. Depois vai ler a quantidade de GOLS feitos em cada partida. No final, tudo isso será guardado em um dicionário, incluindo o TOTAL de gols feito durante o campeonato.**"
   ]
  },
  {
   "cell_type": "code",
   "execution_count": 9,
   "metadata": {},
   "outputs": [],
   "source": [
    "\n",
    "jogador = {}"
   ]
  },
  {
   "cell_type": "code",
   "execution_count": 10,
   "metadata": {},
   "outputs": [],
   "source": [
    "nome = input(\"Nome do jogador: \")\n",
    "jogador[\"Nome\"] = nome\n",
    "\n",
    "num_partidas = int(input(f\"Quantas partidas {nome} jogou? \"))\n",
    "\n",
    "gols_por_partida = []"
   ]
  },
  {
   "cell_type": "code",
   "execution_count": 11,
   "metadata": {},
   "outputs": [],
   "source": [
    "for partida in range(1, num_partidas + 1):\n",
    "    gols = int(input(f\"Quantos gols {nome} fez na partida {partida}? \"))\n",
    "    gols_por_partida.append(gols)"
   ]
  },
  {
   "cell_type": "code",
   "execution_count": 12,
   "metadata": {},
   "outputs": [],
   "source": [
    "total_gols = sum(gols_por_partida)\n",
    "\n",
    "jogador[\"Gols por Partida\"] = gols_por_partida\n",
    "jogador[\"Total de Gols\"] = total_gols\n"
   ]
  },
  {
   "cell_type": "code",
   "execution_count": 13,
   "metadata": {},
   "outputs": [
    {
     "name": "stdout",
     "output_type": "stream",
     "text": [
      "\n",
      "Informações do jogador:\n",
      "Nome: Antonio Pedro\n",
      "Gols por Partida: [3, 1]\n",
      "Total de Gols: 4\n"
     ]
    }
   ],
   "source": [
    "print(\"\\nInformações do jogador:\")\n",
    "print(f\"Nome: {jogador['Nome']}\")\n",
    "print(f\"Gols por Partida: {jogador['Gols por Partida']}\")\n",
    "print(f\"Total de Gols: {jogador['Total de Gols']}\")"
   ]
  },
  {
   "cell_type": "markdown",
   "metadata": {},
   "source": [
    "**4. Faça um programa que leia o NOME, SEXO e IDADE de várias pessoas, guardando os dados de cada pessoa em um dicionário e todos os dicionários em uma lista. No final, mostre:**\n",
    "\n",
    "**(a) Quantas pessoas foram cadastradas**\n",
    "\n",
    "**(b) A média de idade do grupo**\n",
    "\n",
    "**(c) Uma lista com todas as mulheres.**\n",
    "\n",
    "**(d) Uma lista com todas as pessoas com idade acima da média**"
   ]
  },
  {
   "cell_type": "code",
   "execution_count": 24,
   "metadata": {},
   "outputs": [],
   "source": [
    "\n",
    "pessoas = []\n",
    "soma_idades = 0\n",
    "mulheres = []\n",
    "acima_media = []\n",
    "\n",
    "\n",
    "num_pessoas = int(input(\"Quantas pessoas deseja cadastrar? \"))"
   ]
  },
  {
   "cell_type": "code",
   "execution_count": 25,
   "metadata": {},
   "outputs": [],
   "source": [
    "for _ in range(num_pessoas):\n",
    "    pessoa = {}\n",
    "\n",
    "    pessoa[\"Nome\"] = input(\"Nome da pessoa: \")\n",
    "    pessoa[\"Sexo\"] = input(\"Sexo (M/F): \").upper()\n",
    "    pessoa[\"Idade\"] = int(input(\"Idade da pessoa: \"))\n",
    "\n",
    "    pessoas.append(pessoa)\n",
    "\n",
    "    soma_idades += pessoa[\"Idade\"]\n",
    "\n",
    "    if pessoa[\"Sexo\"] == 'F':\n",
    "        mulheres.append(pessoa)\n"
   ]
  },
  {
   "cell_type": "code",
   "execution_count": 26,
   "metadata": {},
   "outputs": [],
   "source": [
    "media_idade = soma_idades / num_pessoas\n",
    "\n",
    "acima_media = [pessoa for pessoa in pessoas if pessoa[\"Idade\"] > media_idade]\n"
   ]
  },
  {
   "cell_type": "code",
   "execution_count": 36,
   "metadata": {},
   "outputs": [
    {
     "name": "stdout",
     "output_type": "stream",
     "text": [
      "\n",
      "(a) Quantidade de pessoas cadastradas: 2\n",
      "(b) Média de idade do grupo: 20.0\n",
      "(c) Mulheres cadastradas: {'Nome': 'Maria Luiza', 'Sexo': 'F', 'Idade': 22}\n",
      "(d) Pessoas acima da média de idade:\n",
      "Nome: Maria Luiza, Idade: 22\n",
      "Nome: Maria Luiza, Idade: 22\n"
     ]
    }
   ],
   "source": [
    "print(f\"\\n(a) Quantidade de pessoas cadastradas: {num_pessoas}\")\n",
    "print(f\"(b) Média de idade do grupo: {media_idade}\")\n",
    "print(f\"(c) Mulheres cadastradas: {mulher}\")\n",
    "print(\"(d) Pessoas acima da média de idade:\")\n",
    "\n",
    "for mulher in mulheres:\n",
    "    print(f\"Nome: {mulher['Nome']}, Idade: {mulher['Idade']}\")\n",
    "for pessoa in acima_media:\n",
    "    print(f\"Nome: {pessoa['Nome']}, Idade: {pessoa['Idade']}\")"
   ]
  },
  {
   "cell_type": "markdown",
   "metadata": {},
   "source": [
    "**5. Aprimore o exercício 3 para que ele funcione com vários jogadores, incluindo um sistema de visualização de detalhes de aproveitamento de cada jogador**"
   ]
  },
  {
   "cell_type": "code",
   "execution_count": 14,
   "metadata": {},
   "outputs": [],
   "source": [
    "\n",
    "jogadores = []\n",
    "\n",
    "num_jogadores = int(input(\"Quantos jogadores deseja cadastrar? \"))"
   ]
  },
  {
   "cell_type": "code",
   "execution_count": 15,
   "metadata": {},
   "outputs": [],
   "source": [
    "for _ in range(num_jogadores):\n",
    "    jogador = {}\n",
    "\n",
    "    nome = input(\"Nome do jogador: \")\n",
    "    jogador[\"Nome\"] = nome\n",
    "\n",
    "    num_partidas = int(input(f\"Quantas partidas {nome} jogou? \"))\n",
    "\n",
    "    gols_por_partida = []\n",
    "\n",
    "    for partida in range(1, num_partidas + 1):\n",
    "        gols = int(input(f\"Quantos gols {nome} fez na partida {partida}? \"))\n",
    "        gols_por_partida.append(gols)\n",
    "\n",
    "    total_gols = sum(gols_por_partida)\n",
    "\n",
    "    jogador[\"Gols por Partida\"] = gols_por_partida\n",
    "    jogador[\"Total de Gols\"] = total_gols\n",
    "\n",
    "    jogadores.append(jogador)"
   ]
  },
  {
   "cell_type": "code",
   "execution_count": 16,
   "metadata": {},
   "outputs": [
    {
     "name": "stdout",
     "output_type": "stream",
     "text": [
      "\n",
      "Detalhes de Aproveitamento:\n",
      "\n",
      "Informações do jogador:\n",
      "Nome: Pelé\n",
      "Gols por Partida: [3, 2]\n",
      "Total de Gols: 5\n",
      "\n",
      "Informações do jogador:\n",
      "Nome: Pedrinho\n",
      "Gols por Partida: [1]\n",
      "Total de Gols: 1\n",
      "\n",
      "Informações do jogador:\n",
      "Nome: Souza\n",
      "Gols por Partida: [1, 3, 2, 2]\n",
      "Total de Gols: 8\n"
     ]
    }
   ],
   "source": [
    "print(\"\\nDetalhes de Aproveitamento:\")\n",
    "for jogador in jogadores:\n",
    "    print(\"\\nInformações do jogador:\")\n",
    "    print(f\"Nome: {jogador['Nome']}\")\n",
    "    print(f\"Gols por Partida: {jogador['Gols por Partida']}\")\n",
    "    print(f\"Total de Gols: {jogador['Total de Gols']}\")"
   ]
  },
  {
   "cell_type": "markdown",
   "metadata": {},
   "source": [
    "**6. Crie uma matriz (lista de lista) de tamanho MxN onde M e N são fornecidos pelo usuário. Preencha essa matriz com valores aleatórios entre 0 e 15. Faça:**\n",
    "\n",
    "**(a) Faça uma função para visualizar essa matriz**\n",
    "\n",
    "**(b) Faça uma função chamada “histograma” que recebe essa matriz como argumento e retorna um dicionário com a KEY sendo cada um dos possíveis valores entre 0 e 15 e o VALUE a quantidade de valores daquela chave. Caso ela não exista o valor é 0.**\n",
    "\n",
    "**(c) Faça uma função que receba um valor e retorne a quantidade desse valor na matriz.**\n",
    "\n",
    "**(d) Faça uma função para que receba o histograma e “desenhe esse histograma na forma:**\n",
    "\n",
    "00: ***\n",
    "\n",
    "01: ******\n",
    "\n",
    "02: ***********\n",
    "\n",
    "03: ***\n",
    "\n",
    "04: *"
   ]
  },
  {
   "cell_type": "code",
   "execution_count": 17,
   "metadata": {},
   "outputs": [],
   "source": [
    "import random"
   ]
  },
  {
   "cell_type": "code",
   "execution_count": 18,
   "metadata": {},
   "outputs": [],
   "source": [
    "def ver_matriz(matriz):\n",
    "    qtd_linhas = len(matriz)\n",
    "    for linha in range(qtd_linhas):\n",
    "        qtd_colunas = len(matriz[linha])\n",
    "        for coluna in range(qtd_colunas):\n",
    "            elemento = matriz[linha][coluna]\n",
    "            print(f\"{elemento: ^3}\", end=' ')\n",
    "        print()"
   ]
  },
  {
   "cell_type": "code",
   "execution_count": 19,
   "metadata": {},
   "outputs": [],
   "source": [
    "def histograma(matriz):\n",
    "    dict = {}\n",
    "    for i in range(16):\n",
    "        dict[i] = 0\n",
    "    for i in range(len(matriz)):\n",
    "        for j in range(len(matriz[i])):\n",
    "            dict[matriz[i][j]] += 1\n",
    "    return dict"
   ]
  },
  {
   "cell_type": "code",
   "execution_count": 20,
   "metadata": {},
   "outputs": [],
   "source": [
    "def get_valor(valor, hist):\n",
    "    return hist[valor]"
   ]
  },
  {
   "cell_type": "code",
   "execution_count": 21,
   "metadata": {},
   "outputs": [],
   "source": [
    "def desenha_histograma(hist):\n",
    "    for i in range(len(hist)):\n",
    "        qtd = get_valor(i, hist)\n",
    "        print(f\"{i: >2}: \", end=' ')\n",
    "        for j in range(qtd):\n",
    "            print('*', end='')\n",
    "        print('')"
   ]
  },
  {
   "cell_type": "code",
   "execution_count": 22,
   "metadata": {},
   "outputs": [],
   "source": [
    "M = int(input(\"M: \"))\n",
    "N = int(input(\"N: \"))\n",
    "\n",
    "matriz = []\n",
    "for i in range(M):\n",
    "    linha = []\n",
    "    for j in range (N):\n",
    "        valor = random.randint(0, 15)\n",
    "        linha.append(valor)\n",
    "    matriz.append(linha)"
   ]
  },
  {
   "cell_type": "code",
   "execution_count": 23,
   "metadata": {},
   "outputs": [
    {
     "name": "stdout",
     "output_type": "stream",
     "text": [
      "11   0   3  10  10   6  11   9  \n",
      " 8  14   9   7  13  11   5   8  \n",
      " 3   7  10  14   5  10   6   9  \n",
      " 1   0   0   5  15  10   5   1  \n",
      " 1  11   9   0  15  13  10  12  \n",
      "10  12   2  14   7   5   5   2  \n",
      " 4   2   5   7   6   1  12   4  \n",
      "11   7   8   9   2   2   4   8  \n",
      "10   3   7   9  14  12   0  13  \n",
      "11   8   8  13   8  13   5  10  \n",
      " 0:  *****\n",
      " 1:  ****\n",
      " 2:  *****\n",
      " 3:  ***\n",
      " 4:  ***\n",
      " 5:  ********\n",
      " 6:  ***\n",
      " 7:  ******\n",
      " 8:  *******\n",
      " 9:  ******\n",
      "10:  *********\n",
      "11:  ******\n",
      "12:  ****\n",
      "13:  *****\n",
      "14:  ****\n",
      "15:  **\n"
     ]
    }
   ],
   "source": [
    "ver_matriz(matriz)\n",
    "desenha_histograma(histograma(matriz))"
   ]
  }
 ],
 "metadata": {
  "kernelspec": {
   "display_name": "Python 3",
   "language": "python",
   "name": "python3"
  },
  "language_info": {
   "codemirror_mode": {
    "name": "ipython",
    "version": 3
   },
   "file_extension": ".py",
   "mimetype": "text/x-python",
   "name": "python",
   "nbconvert_exporter": "python",
   "pygments_lexer": "ipython3",
   "version": "3.11.1"
  }
 },
 "nbformat": 4,
 "nbformat_minor": 2
}
