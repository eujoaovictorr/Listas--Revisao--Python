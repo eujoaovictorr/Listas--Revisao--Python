{
 "cells": [
  {
   "cell_type": "markdown",
   "metadata": {},
   "source": [
    "<h1 style=\"text-align: center\">INSTITUTO FEDERAL DO CEARÁ</h1>\n",
    "<h2 style=\"text-align: center\">CAMPUS MARANGUAPE</h2>\n",
    "<h3 style=\"text-align: center\">Programação Orientada a Objetos</h3>\n",
    "<h3 style=\"text-align: center\">Prof. Thomaz Maia</h3>\n",
    "<h1 style=\"text-align: center\">Lista de Exercícios 3 - IF</h1>"
   ]
  },
  {
   "cell_type": "markdown",
   "metadata": {},
   "source": [
    "**Aluno: João Victor Lima Gaspar**\n"
   ]
  },
  {
   "cell_type": "markdown",
   "metadata": {},
   "source": [
    "**1. Crie um programa que leia três valores e verifique se esses valores formam um triângulo.**"
   ]
  },
  {
   "cell_type": "code",
   "execution_count": 3,
   "metadata": {},
   "outputs": [],
   "source": [
    "valor_1 = float(input(\"Digite o valor 1: \"))\n",
    "valor_2 = float(input(\"Digite o valor 2: \"))\n",
    "valor_3 = float(input(\"Digite o valor 3: \"))"
   ]
  },
  {
   "cell_type": "code",
   "execution_count": 4,
   "metadata": {},
   "outputs": [
    {
     "name": "stdout",
     "output_type": "stream",
     "text": [
      "Os valores foram 3.5, 7.0 e 2.0, formam um triângulo!\n"
     ]
    }
   ],
   "source": [
    "if (valor_1 + valor_2 > valor_3) or (valor_1 + valor_3 > valor_2) or (valor_2 + valor_3 > valor_1):\n",
    "    print(f\"Os valores foram {valor_1}, {valor_2} e {valor_3}, formam um triângulo!\")\n",
    "else:\n",
    "    print(f\"Os valores foram {valor_1}, {valor_2} e {valor_3}, não formam um triângulo!\") "
   ]
  },
  {
   "cell_type": "markdown",
   "metadata": {},
   "source": [
    "**2. Modifique o programa anterior para identificar o tipo de triângulo (se possível formar): equilátero (todos os lados iguais), isósceles (dois lados iguais) ou escaleno (todos os lados diferentes). Crie uma função com retorno booleano para cada tipo de triângulo**"
   ]
  },
  {
   "cell_type": "code",
   "execution_count": 7,
   "metadata": {},
   "outputs": [],
   "source": [
    "lado_a = float(input(\"Primeiro lado: \"))\n",
    "lado_b = float(input(\"Segundo lado: \"))\n",
    "lado_c = float(input(\"Terceiro lado: \"))"
   ]
  },
  {
   "cell_type": "code",
   "execution_count": 9,
   "metadata": {},
   "outputs": [
    {
     "name": "stdout",
     "output_type": "stream",
     "text": [
      "Os valores dos lados foram '5.0, 5.0, 6.8', É um triângulo isósceles\n"
     ]
    }
   ],
   "source": [
    "if (lado_a + lado_b < lado_c) or (lado_a + lado_c < lado_b) or (lado_b + lado_c <  lado_c):\n",
    "    print(f\"Os valores dos lados foram '{lado_a}, {lado_b}, {lado_c}', Não é um triângulo\")\n",
    "elif (lado_a == lado_b) and (lado_a == lado_c):\n",
    "    print(f\"Os valores dos lados foram '{lado_a}, {lado_b}, {lado_c}', É um triângulo equilatero\")\n",
    "elif (lado_a == lado_b) or (lado_a == lado_c) or (lado_b == lado_c):\n",
    "    print(f\"Os valores dos lados foram '{lado_a}, {lado_b}, {lado_c}', É um triângulo isósceles\")\n",
    "else:\n",
    "    print(f\"Os valores dos lados foram '{lado_a}, {lado_b}, {lado_c}', É um triângulo escaleno\")"
   ]
  },
  {
   "cell_type": "markdown",
   "metadata": {},
   "source": [
    "**3. Modifique o programa de calculadora para ler uma opção do usuário, ler dois números e chamar uma função da operação correspondente. Crie as quatro funções recebendo dois valores e retornando o resultado. Caso o usuário escolha uma opção inexistente, escreva Opcão Invalida.**"
   ]
  },
  {
   "cell_type": "code",
   "execution_count": 75,
   "metadata": {},
   "outputs": [],
   "source": [
    "def somar(valor_1, valor_2):\n",
    "    return valor_1 + valor_2"
   ]
  },
  {
   "cell_type": "code",
   "execution_count": 76,
   "metadata": {},
   "outputs": [],
   "source": [
    "def subtrair(valor_1, valor_2):\n",
    "    return valor_1 - valor_2"
   ]
  },
  {
   "cell_type": "code",
   "execution_count": 77,
   "metadata": {},
   "outputs": [],
   "source": [
    "def multiplicar(valor_1, valor_2):\n",
    "    return valor_1 * valor_2"
   ]
  },
  {
   "cell_type": "code",
   "execution_count": 78,
   "metadata": {},
   "outputs": [],
   "source": [
    "def dividir(valor_1, valor_2):\n",
    "    return valor_1 / valor_2"
   ]
  },
  {
   "cell_type": "code",
   "execution_count": 80,
   "metadata": {},
   "outputs": [],
   "source": [
    "def calculadora():\n",
    "    print(\"===== CALCULADORA DE OPERAÇÕES =====\")\n",
    "    print(\"Opções: \")\n",
    "    print(\"-\" * 10)\n",
    "    print(\"[1] Somar\")\n",
    "    print(\"[2] Subtrair\")\n",
    "    print(\"[3] Multiplicar\")\n",
    "    print(\"[4] Divisão\")\n",
    "    print(\"-\" * 10)\n",
    "    opcao = int(input(\"Digite uma opcao: \"))\n",
    "\n",
    "    if opcao == 1 or 2 or 3 or 4:\n",
    "        valor_1 = float(input(\"Digite o valor 1: \"))\n",
    "        valor_2 = float(input(\"Digite o valor 2: \"))\n",
    "        if opcao == 1:\n",
    "            resultado = somar(valor_1, valor_2)\n",
    "        elif opcao == 2:\n",
    "            resultado = subtrair(valor_1, valor_2)\n",
    "        elif opcao == 3:\n",
    "            resultado = multiplicar(valor_1, valor_2)\n",
    "        elif opcao == 4:\n",
    "            resultado = dividir(valor_1, valor_2)\n",
    "        print(f\"A opção que você digitou foi {opcao}\")\n",
    "        print(f\"Os números que você digitou foram {valor_1} e {valor_2}, o resultado foi {resultado}\")\n",
    "    else:\n",
    "        print(\"Opção Inválida!\")"
   ]
  },
  {
   "cell_type": "code",
   "execution_count": 81,
   "metadata": {},
   "outputs": [
    {
     "name": "stdout",
     "output_type": "stream",
     "text": [
      "===== CALCULADORA DE OPERAÇÕES =====\n",
      "Opções: \n",
      "----------\n",
      "[1] Somar\n",
      "[2] Subtrair\n",
      "[3] Multiplicar\n",
      "[4] Divisão\n",
      "----------\n",
      "A opção que você digitou foi 2\n",
      "Os números que você digitou foram 5.0 e 2.0, o resultado foi 3.0\n"
     ]
    }
   ],
   "source": [
    "calculadora()"
   ]
  },
  {
   "cell_type": "markdown",
   "metadata": {},
   "source": [
    "**4. Crie um programa para jogar PedraPapelTesoura contra o computador**\n",
    "\n",
    "**obs: from random import radint**"
   ]
  },
  {
   "cell_type": "code",
   "execution_count": 9,
   "metadata": {},
   "outputs": [],
   "source": [
    "from random import randint"
   ]
  },
  {
   "cell_type": "code",
   "execution_count": 10,
   "metadata": {},
   "outputs": [],
   "source": [
    "def jogar_pedra_papel_tesoura(escolha_jogador):\n",
    "    opcoes = [\"Pedra\", \"Papel\", \"tesoura\"]\n",
    "    escolha_computador = opcoes[randint(0, 2)]\n",
    "\n",
    "    print(f\"Você escolheu: {escolha_jogador}\")\n",
    "    print(f\"Computador escolheu: {escolha_computador}\")\n",
    "\n",
    "    if escolha_jogador == escolha_computador:\n",
    "        return \"Empate!\"\n",
    "    elif (escolha_jogador == \"Pedra\" and escolha_computador == \"Tesoura\") or (escolha_jogador == \"Papel\" and escolha_computador == \"Pedra\") or (escolha_jogador == \"Tesoura\" and escolha_computador == \"Papel\"):\n",
    "        return \"Você venceu!\"\n",
    "    else:\n",
    "        return \"O Computador venceu!\""
   ]
  },
  {
   "cell_type": "code",
   "execution_count": 16,
   "metadata": {},
   "outputs": [
    {
     "name": "stdout",
     "output_type": "stream",
     "text": [
      "Você escolheu: Pedra\n",
      "Computador escolheu: Papel\n",
      "O Computador venceu!\n"
     ]
    }
   ],
   "source": [
    "escolha_jogador = input(\"Escolha Pedra, Papel ou Tesoura: \")\n",
    "resultado = jogar_pedra_papel_tesoura(escolha_jogador)\n",
    "print(resultado)"
   ]
  }
 ],
 "metadata": {
  "kernelspec": {
   "display_name": "Python 3",
   "language": "python",
   "name": "python3"
  },
  "language_info": {
   "codemirror_mode": {
    "name": "ipython",
    "version": 3
   },
   "file_extension": ".py",
   "mimetype": "text/x-python",
   "name": "python",
   "nbconvert_exporter": "python",
   "pygments_lexer": "ipython3",
   "version": "3.11.1"
  }
 },
 "nbformat": 4,
 "nbformat_minor": 2
}
