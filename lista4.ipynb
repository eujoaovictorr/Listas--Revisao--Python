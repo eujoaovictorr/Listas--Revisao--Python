{
 "cells": [
  {
   "cell_type": "markdown",
   "metadata": {},
   "source": [
    "<h1 style=\"text-align: center\">INSTITUTO FEDERAL DO CEARÁ</h1>\n",
    "<h2 style=\"text-align: center\">CAMPUS MARANGUAPE</h2>\n",
    "<h3 style=\"text-align: center\">Programação Orientada a Objetos</h3>\n",
    "<h3 style=\"text-align: center\">Prof. Thomaz Maia</h3>\n",
    "<h1 style=\"text-align: center\">Lista de Exercícios 4 - While</h1>"
   ]
  },
  {
   "cell_type": "markdown",
   "metadata": {},
   "source": [
    "**Aluno: João Victor Lima Gaspar**"
   ]
  },
  {
   "cell_type": "markdown",
   "metadata": {},
   "source": [
    "**1. Crie um programa que leia o sexo de uma pessoa ‘M’ ou ‘F’. Repita a leitura até que uma resposta seja válida.**"
   ]
  },
  {
   "cell_type": "code",
   "execution_count": 4,
   "metadata": {},
   "outputs": [
    {
     "name": "stdout",
     "output_type": "stream",
     "text": [
      "Entrada inválida, você digitou 'N'. Por favor, digite 'M' para masculino ou 'F' para feminino.\n",
      "Entrada inválida, você digitou 'D'. Por favor, digite 'M' para masculino ou 'F' para feminino.\n",
      "Você digitou 'F', Sexo registrado com sucesso!\n"
     ]
    }
   ],
   "source": [
    "while True:\n",
    "    sexo = input(\"Digite o sexo (M/F): \").upper()  \n",
    "\n",
    "    if sexo == 'M' or sexo == 'F':\n",
    "        print(f\"Você digitou '{sexo}', Sexo registrado com sucesso!\")\n",
    "        break  \n",
    "    else:\n",
    "        print(f\"Entrada inválida, você digitou '{sexo}'. Por favor, digite 'M' para masculino ou 'F' para feminino.\")\n"
   ]
  },
  {
   "cell_type": "markdown",
   "metadata": {},
   "source": [
    "**2. Crie um jogo que gere uma número aleatório entre 0 e 10 e tente acertar esse número através de dicas de “maior” ou “menor”.**"
   ]
  },
  {
   "cell_type": "code",
   "execution_count": 5,
   "metadata": {},
   "outputs": [],
   "source": [
    "import random"
   ]
  },
  {
   "cell_type": "code",
   "execution_count": 6,
   "metadata": {},
   "outputs": [],
   "source": [
    "def obter_palpite():\n",
    "    palpite_valido = False\n",
    "    while not palpite_valido:\n",
    "        palpite_str = input(\"Digite o seu palpite: \")\n",
    "        if palpite_str.isdigit():\n",
    "            return int(palpite_str)\n",
    "        else:\n",
    "            print(\"Por favor, digite um número válido.\")\n"
   ]
  },
  {
   "cell_type": "code",
   "execution_count": 7,
   "metadata": {},
   "outputs": [],
   "source": [
    "def jogo_adivinhacao():\n",
    "    numero_secreto = random.randint(0, 10)\n",
    "    tentativas = 0\n",
    "\n",
    "    print(\"Bem-vindo ao Jogo de Adivinhação!\")\n",
    "    print(\"Tente adivinhar o número secreto entre 0 e 10.\")\n",
    "\n",
    "    while True:\n",
    "        palpite = obter_palpite()\n",
    "\n",
    "        tentativas += 1\n",
    "\n",
    "        if palpite == numero_secreto:\n",
    "            print(f\"Parabéns! Você acertou o número {numero_secreto} em {tentativas} tentativas.\")\n",
    "            break\n",
    "        elif palpite < numero_secreto:\n",
    "            print(\"Tente novamente. O número é maior.\")\n",
    "        else:\n",
    "            print(\"Tente novamente. O número é menor.\")\n"
   ]
  },
  {
   "cell_type": "code",
   "execution_count": 8,
   "metadata": {},
   "outputs": [
    {
     "name": "stdout",
     "output_type": "stream",
     "text": [
      "Bem-vindo ao Jogo de Adivinhação!\n",
      "Tente adivinhar o número secreto entre 0 e 10.\n",
      "Tente novamente. O número é maior.\n",
      "Tente novamente. O número é maior.\n",
      "Tente novamente. O número é maior.\n",
      "Parabéns! Você acertou o número 8 em 4 tentativas.\n"
     ]
    }
   ],
   "source": [
    "jogo_adivinhacao()"
   ]
  },
  {
   "cell_type": "markdown",
   "metadata": {},
   "source": [
    "**3. Modifique o programa da calculadora com uma nova opção SAIR. O programa deve retornar para o menu principal após realizar a operação e só deve sair da calculadora quando o usuário escolher.**"
   ]
  },
  {
   "cell_type": "code",
   "execution_count": 17,
   "metadata": {},
   "outputs": [],
   "source": [
    "def somar(valor_1, valor_2):\n",
    "    return valor_1 + valor_2"
   ]
  },
  {
   "cell_type": "code",
   "execution_count": 18,
   "metadata": {},
   "outputs": [],
   "source": [
    "def subtrair(valor_1, valor_2):\n",
    "    return valor_1 - valor_2"
   ]
  },
  {
   "cell_type": "code",
   "execution_count": 19,
   "metadata": {},
   "outputs": [],
   "source": [
    "def multiplicar(valor_1, valor_2):\n",
    "    return valor_1 * valor_2"
   ]
  },
  {
   "cell_type": "code",
   "execution_count": 20,
   "metadata": {},
   "outputs": [],
   "source": [
    "def dividir(valor_1, valor_2):\n",
    "    return valor_1 / valor_2"
   ]
  },
  {
   "cell_type": "code",
   "execution_count": 53,
   "metadata": {},
   "outputs": [],
   "source": [
    "def calculadora():\n",
    "    continuar = True\n",
    "\n",
    "    while continuar:\n",
    "        print(\"===== CALCULADORA DE OPERAÇÕES =====\")\n",
    "        print(\"Opções: \")\n",
    "        print(\"-\" * 10)\n",
    "        print(\"[1] Somar\")\n",
    "        print(\"[2] Subtrair\")\n",
    "        print(\"[3] Multiplicar\")\n",
    "        print(\"[4] Divisão\")\n",
    "        print(\"[5] Sair\")\n",
    "        print(\"-\" * 10)\n",
    "        opcao = int(input(\"Digite uma opcao: \"))\n",
    "\n",
    "        if opcao == 5:\n",
    "            print(f\"A opção que você digitou foi {opcao}\")\n",
    "            print(\"Saindo da calculadora...\")\n",
    "            continuar = False\n",
    "        else:\n",
    "            if opcao == 1 or 2 or 3 or 4:\n",
    "                valor_1 = float(input(\"Digite o valor 1: \"))\n",
    "                valor_2 = float(input(\"Digite o valor 2: \"))\n",
    "                if opcao == 1:\n",
    "                    resultado = somar(valor_1, valor_2)\n",
    "                elif opcao == 2:\n",
    "                    resultado = subtrair(valor_1, valor_2)\n",
    "                elif opcao == 3:\n",
    "                    resultado = multiplicar(valor_1, valor_2)\n",
    "                elif opcao == 4:\n",
    "                    resultado = dividir(valor_1, valor_2)\n",
    "                print(f\"A opção que você digitou foi {opcao}\")\n",
    "                print(f\"Os números que você digitou foram {valor_1} e {valor_2}, o resultado foi {resultado}\")\n",
    "            else:\n",
    "                print(\"Opção Inválida!\")"
   ]
  },
  {
   "cell_type": "code",
   "execution_count": 54,
   "metadata": {},
   "outputs": [
    {
     "name": "stdout",
     "output_type": "stream",
     "text": [
      "===== CALCULADORA DE OPERAÇÕES =====\n",
      "Opções: \n",
      "----------\n",
      "[1] Somar\n",
      "[2] Subtrair\n",
      "[3] Multiplicar\n",
      "[4] Divisão\n",
      "[5] Sair\n",
      "----------\n",
      "A opção que você digitou foi 1\n",
      "Os números que você digitou foram 5.0 e 5.0, o resultado foi 10.0\n",
      "===== CALCULADORA DE OPERAÇÕES =====\n",
      "Opções: \n",
      "----------\n",
      "[1] Somar\n",
      "[2] Subtrair\n",
      "[3] Multiplicar\n",
      "[4] Divisão\n",
      "[5] Sair\n",
      "----------\n",
      "A opção que você digitou foi 2\n",
      "Os números que você digitou foram 6.0 e 3.0, o resultado foi 3.0\n",
      "===== CALCULADORA DE OPERAÇÕES =====\n",
      "Opções: \n",
      "----------\n",
      "[1] Somar\n",
      "[2] Subtrair\n",
      "[3] Multiplicar\n",
      "[4] Divisão\n",
      "[5] Sair\n",
      "----------\n",
      "A opção que você digitou foi 5\n",
      "Saindo da calculadora...\n"
     ]
    }
   ],
   "source": [
    "calculadora()"
   ]
  },
  {
   "cell_type": "markdown",
   "metadata": {},
   "source": [
    "**4. Modifique o programa anterior para fazê-lo utilizando o comando BREAK.**"
   ]
  },
  {
   "cell_type": "code",
   "execution_count": 55,
   "metadata": {},
   "outputs": [],
   "source": [
    "def calculadora():\n",
    "\n",
    "    while True:\n",
    "        print(\"===== CALCULADORA DE OPERAÇÕES =====\")\n",
    "        print(\"Opções: \")\n",
    "        print(\"-\" * 10)\n",
    "        print(\"[1] Somar\")\n",
    "        print(\"[2] Subtrair\")\n",
    "        print(\"[3] Multiplicar\")\n",
    "        print(\"[4] Divisão\")\n",
    "        print(\"[5] Sair\")\n",
    "        print(\"-\" * 10)\n",
    "        opcao = int(input(\"Digite uma opcao: \"))\n",
    "\n",
    "        if opcao == 5:\n",
    "            print(f\"A opção que você digitou foi {opcao}\")\n",
    "            print(\"Saindo da calculadora...\")\n",
    "            break\n",
    "        else:\n",
    "            if opcao == 1 or 2 or 3 or 4:\n",
    "                valor_1 = float(input(\"Digite o valor 1: \"))\n",
    "                valor_2 = float(input(\"Digite o valor 2: \"))\n",
    "                if opcao == 1:\n",
    "                    resultado = somar(valor_1, valor_2)\n",
    "                elif opcao == 2:\n",
    "                    resultado = subtrair(valor_1, valor_2)\n",
    "                elif opcao == 3:\n",
    "                    resultado = multiplicar(valor_1, valor_2)\n",
    "                elif opcao == 4:\n",
    "                    resultado = dividir(valor_1, valor_2)\n",
    "                print(f\"A opção que você digitou foi {opcao}\")\n",
    "                print(f\"Os números que você digitou foram {valor_1} e {valor_2}, o resultado foi {resultado}\")\n",
    "            else:\n",
    "                print(\"Opção Inválida!\")"
   ]
  },
  {
   "cell_type": "code",
   "execution_count": 57,
   "metadata": {},
   "outputs": [
    {
     "name": "stdout",
     "output_type": "stream",
     "text": [
      "===== CALCULADORA DE OPERAÇÕES =====\n",
      "Opções: \n",
      "----------\n",
      "[1] Somar\n",
      "[2] Subtrair\n",
      "[3] Multiplicar\n",
      "[4] Divisão\n",
      "[5] Sair\n",
      "----------\n",
      "A opção que você digitou foi 3\n",
      "Os números que você digitou foram 5.0 e 2.0, o resultado foi 10.0\n",
      "===== CALCULADORA DE OPERAÇÕES =====\n",
      "Opções: \n",
      "----------\n",
      "[1] Somar\n",
      "[2] Subtrair\n",
      "[3] Multiplicar\n",
      "[4] Divisão\n",
      "[5] Sair\n",
      "----------\n",
      "A opção que você digitou foi 5\n",
      "Saindo da calculadora...\n"
     ]
    }
   ],
   "source": [
    "calculadora()"
   ]
  },
  {
   "cell_type": "markdown",
   "metadata": {},
   "source": [
    "**5. Crie um programa que simule um caixa eletrônico. Pergunte ao usuário quanto ele deseja sacar e o programa deve informar a quantidade de cada célula de cada valor será entregue. Você tem cédulas de 50, 20, 10 e 1.**"
   ]
  },
  {
   "cell_type": "code",
   "execution_count": 58,
   "metadata": {},
   "outputs": [],
   "source": [
    "def caixa_eletronico(valor_saque):\n",
    "    cedula_50 = valor_saque // 50\n",
    "    cedula_20 = (valor_saque % 50) // 20\n",
    "    cedula_10 = ((valor_saque % 50) % 20) // 10\n",
    "    cedula_1 = ((valor_saque % 50) % 20) % 10\n",
    "    return cedula_50, cedula_20, cedula_10, cedula_1\n"
   ]
  },
  {
   "cell_type": "code",
   "execution_count": 59,
   "metadata": {},
   "outputs": [],
   "source": [
    "def main():\n",
    "    print(\"Bem-vindo ao Caixa Eletrônico!\")\n",
    "    print('-' * 12)\n",
    "    \n",
    "    continuar = True\n",
    "\n",
    "    while continuar:\n",
    "        valor_saque = input(\"Digite o valor que deseja sacar (ou 0 para sair): \")\n",
    "\n",
    "        if valor_saque == '0':\n",
    "            print(\"Obrigado por utilizar o caixa eletrônico. Até logo!\")\n",
    "            continuar = False\n",
    "        else:\n",
    "            try:\n",
    "                valor_saque = int(valor_saque)\n",
    "            except ValueError:\n",
    "                print(\"Por favor, digite um valor válido!\")\n",
    "                continue\n",
    "\n",
    "            if valor_saque < 0:\n",
    "                print(\"Por favor, digite um valor positivo!\")\n",
    "                continue\n",
    "\n",
    "            cedula_50, cedula_20, cedula_10, cedula_1 = caixa_eletronico(valor_saque)\n",
    "\n",
    "            print(f\"\\nQuantidade de cédulas para o saque de R${valor_saque}:\")\n",
    "            print(f\"{cedula_50} cédula(s) de R$50\")\n",
    "            print(f\"{cedula_20} cédula(s) de R$20\")\n",
    "            print(f\"{cedula_10} cédula(s) de R$10\")\n",
    "            print(f\"{cedula_1} cédula(s) de R$1\")"
   ]
  },
  {
   "cell_type": "code",
   "execution_count": 60,
   "metadata": {},
   "outputs": [
    {
     "name": "stdout",
     "output_type": "stream",
     "text": [
      "Bem-vindo ao Caixa Eletrônico!\n",
      "------------\n",
      "\n",
      "Quantidade de cédulas para o saque de R$22:\n",
      "0 cédula(s) de R$50\n",
      "1 cédula(s) de R$20\n",
      "0 cédula(s) de R$10\n",
      "2 cédula(s) de R$1\n",
      "\n",
      "Quantidade de cédulas para o saque de R$20:\n",
      "0 cédula(s) de R$50\n",
      "1 cédula(s) de R$20\n",
      "0 cédula(s) de R$10\n",
      "0 cédula(s) de R$1\n",
      "\n",
      "Quantidade de cédulas para o saque de R$15:\n",
      "0 cédula(s) de R$50\n",
      "0 cédula(s) de R$20\n",
      "1 cédula(s) de R$10\n",
      "5 cédula(s) de R$1\n",
      "Obrigado por utilizar o caixa eletrônico. Até logo!\n"
     ]
    }
   ],
   "source": [
    "main()"
   ]
  }
 ],
 "metadata": {
  "kernelspec": {
   "display_name": "Python 3",
   "language": "python",
   "name": "python3"
  },
  "language_info": {
   "codemirror_mode": {
    "name": "ipython",
    "version": 3
   },
   "file_extension": ".py",
   "mimetype": "text/x-python",
   "name": "python",
   "nbconvert_exporter": "python",
   "pygments_lexer": "ipython3",
   "version": "3.11.1"
  }
 },
 "nbformat": 4,
 "nbformat_minor": 2
}
