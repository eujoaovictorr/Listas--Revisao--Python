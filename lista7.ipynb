{
 "cells": [
  {
   "cell_type": "markdown",
   "metadata": {},
   "source": [
    "<h1 style=\"text-align: center\">INSTITUTO FEDERAL DO CEARÁ</h1>\n",
    "<h2 style=\"text-align: center\">CAMPUS MARANGUAPE</h2>\n",
    "<h3 style=\"text-align: center\">Programação Orientada a Objetos</h3>\n",
    "<h3 style=\"text-align: center\">Prof. Thomaz Maia</h3>\n",
    "<h1 style=\"text-align: center\">Lista de Exercícios 7 - Listas</h1>"
   ]
  },
  {
   "cell_type": "markdown",
   "metadata": {},
   "source": [
    "**Aluno: João Victor Lima Gaspar**"
   ]
  },
  {
   "cell_type": "markdown",
   "metadata": {},
   "source": [
    "**1. Faça um programa que leia 5 valores numéricos e guarde-os em uma lista. No final mostre qual foi o maior valor e o menor valor da lista bem como suas respectivas posições.**"
   ]
  },
  {
   "cell_type": "code",
   "execution_count": 7,
   "metadata": {},
   "outputs": [],
   "source": [
    "\n",
    "valores = []"
   ]
  },
  {
   "cell_type": "code",
   "execution_count": 8,
   "metadata": {},
   "outputs": [],
   "source": [
    "for i in range(5):\n",
    "    valor = float(input(f\"Digite o {i + 1}º valor: \"))\n",
    "    valores.append(valor)"
   ]
  },
  {
   "cell_type": "code",
   "execution_count": 9,
   "metadata": {},
   "outputs": [],
   "source": [
    "maior_valor = max(valores)\n",
    "menor_valor = min(valores)\n",
    "posicao_maior = valores.index(maior_valor)\n",
    "posicao_menor = valores.index(menor_valor)"
   ]
  },
  {
   "cell_type": "code",
   "execution_count": 10,
   "metadata": {},
   "outputs": [
    {
     "name": "stdout",
     "output_type": "stream",
     "text": [
      "Os números que você digitou foi [3.2, 5.0, 12.0, 7.0, 8.0]\n",
      "\n",
      "Maior valor: 12.0, Posição: 3\n",
      "Menor valor: 3.2, Posição: 1\n"
     ]
    }
   ],
   "source": [
    "print(f\"Os números que você digitou foi {valores}\")\n",
    "print(f\"\\nMaior valor: {maior_valor}, Posição: {posicao_maior + 1}\")\n",
    "print(f\"Menor valor: {menor_valor}, Posição: {posicao_menor + 1}\")\n"
   ]
  },
  {
   "cell_type": "markdown",
   "metadata": {},
   "source": [
    "**2. Crie um programa onde o usuário possa digitar vários valores numéricos e armazene-os em uma lista. Caso o número já exista na lista ele não deve ser adicionado. Ao final mostre todos os valores na ordem decrescente.**"
   ]
  },
  {
   "cell_type": "code",
   "execution_count": 37,
   "metadata": {},
   "outputs": [],
   "source": [
    "valores = []"
   ]
  },
  {
   "cell_type": "code",
   "execution_count": 38,
   "metadata": {},
   "outputs": [
    {
     "name": "stdout",
     "output_type": "stream",
     "text": [
      "\n",
      "Valores na ordem decrescente: [65.0, 42.0, 34.0, 23.0, 12.0, 8.0, 5.0]\n"
     ]
    }
   ],
   "source": [
    "while True:\n",
    "    valor = input(\"Digite um valor (ou 's' para sair): \")\n",
    "\n",
    "    if valor.lower() == 's':\n",
    "        break\n",
    "\n",
    "    try:\n",
    "        valor = float(valor)\n",
    "    except ValueError:\n",
    "        print(\"Por favor, digite um valor numérico válido.\")\n",
    "        continue\n",
    "\n",
    "    if valor in valores:\n",
    "        print(\"Este valor já existe na lista. Não será adicionado novamente.\")\n",
    "    else:\n",
    "        valores.append(valor)\n",
    "\n",
    "valores_decrescentes = sorted(valores, reverse=True)\n",
    "print(\"\\nValores na ordem decrescente:\", valores_decrescentes)"
   ]
  },
  {
   "cell_type": "markdown",
   "metadata": {},
   "source": [
    "**3. Crie um programa onde o usuário possa digitar 5 valores numéricos e armazene-os numa lista ordenada já na posição correta (ordem crescente). Não utilize a função sort(). Ao final mostre a lista**"
   ]
  },
  {
   "cell_type": "code",
   "execution_count": 27,
   "metadata": {},
   "outputs": [],
   "source": [
    "valores = []"
   ]
  },
  {
   "cell_type": "code",
   "execution_count": 28,
   "metadata": {},
   "outputs": [],
   "source": [
    "for i in range(5):\n",
    "    valor = float(input(f\"Digite o { i + 1}º valor: \"))\n",
    "    \n",
    "    posicao = 0\n",
    "    while posicao < len(valores) and valores[posicao] < valor:\n",
    "        posicao += 1\n",
    "    \n",
    "    valores.insert(posicao, valor)"
   ]
  },
  {
   "cell_type": "code",
   "execution_count": 29,
   "metadata": {},
   "outputs": [
    {
     "name": "stdout",
     "output_type": "stream",
     "text": [
      "\n",
      "Valores na ordem crescente: [1.0, 3.0, 5.0, 7.0, 23.0]\n"
     ]
    }
   ],
   "source": [
    "print(\"\\nValores na ordem crescente:\", valores)"
   ]
  },
  {
   "cell_type": "markdown",
   "metadata": {},
   "source": [
    "**4. Crie um programa que vai ler vários números do usuário e colocá-los numa lista. Depois disso, crie duas novas listas que vão conter apenas os valores pares digitados e a outra os valores ímpares digitados. Ao final mostre as três listas.**"
   ]
  },
  {
   "cell_type": "code",
   "execution_count": 21,
   "metadata": {},
   "outputs": [],
   "source": [
    "\n",
    "numeros = []"
   ]
  },
  {
   "cell_type": "code",
   "execution_count": 22,
   "metadata": {},
   "outputs": [],
   "source": [
    "while True:\n",
    "    numero = int(input(\"Digite um número (ou 0 para parar): \"))\n",
    "    \n",
    "    if numero == 0:\n",
    "        break\n",
    "    \n",
    "    numeros.append(numero)"
   ]
  },
  {
   "cell_type": "code",
   "execution_count": 23,
   "metadata": {},
   "outputs": [],
   "source": [
    "pares = [num for num in numeros if num % 2 == 0]\n",
    "impares = [num for num in numeros if num % 2 != 0]"
   ]
  },
  {
   "cell_type": "code",
   "execution_count": 24,
   "metadata": {},
   "outputs": [
    {
     "name": "stdout",
     "output_type": "stream",
     "text": [
      "\n",
      "Todos os números: [5, 4, 8, 65, 2, 14, 6]\n",
      "Números pares: [4, 8, 2, 14, 6]\n",
      "Números ímpares: [5, 65]\n"
     ]
    }
   ],
   "source": [
    "print(f\"\\nTodos os números: {numeros}\")\n",
    "print(f\"Números pares: {pares}\")\n",
    "print(f\"Números ímpares: {impares}\")\n"
   ]
  },
  {
   "cell_type": "markdown",
   "metadata": {},
   "source": [
    "**5. Crie um programa para verificar se uma expressão matemática é válida. Para isso, leia uma expressão que utilize parênteses e verifique se não tem nenhum parêntese a mais ou a menos.**"
   ]
  },
  {
   "cell_type": "code",
   "execution_count": 34,
   "metadata": {},
   "outputs": [],
   "source": [
    "def verifica_parentheses(expressao):\n",
    "    pilha = []\n",
    "\n",
    "    for caractere in expressao:\n",
    "        if caractere == '(':\n",
    "            pilha.append(caractere)\n",
    "        elif caractere == ')':\n",
    "            if not pilha:\n",
    "                return False  \n",
    "            pilha.pop()\n",
    "\n",
    "    return not pilha "
   ]
  },
  {
   "cell_type": "code",
   "execution_count": 35,
   "metadata": {},
   "outputs": [],
   "source": [
    "expressao = input(\"Digite a expressão matemática: \")"
   ]
  },
  {
   "cell_type": "code",
   "execution_count": 36,
   "metadata": {},
   "outputs": [
    {
     "name": "stdout",
     "output_type": "stream",
     "text": [
      "A expressão é válida.\n"
     ]
    }
   ],
   "source": [
    "\n",
    "if verifica_parentheses(expressao):\n",
    "    print(\"A expressão é válida.\")\n",
    "else:\n",
    "    print(\"A expressão é inválida.\")"
   ]
  },
  {
   "cell_type": "markdown",
   "metadata": {},
   "source": [
    "**6. Faça um programa que leia o nome e o peso de várias pessoas guardando tudo em uma lista. No final mostre:**\n",
    "\n",
    "**(a) Quantas pessoas foram cadastradas**\n",
    "\n",
    "**(b) Uma listagem com as pessoas mais pesadas**\n",
    "\n",
    "**(c) Uma listagem com as pessoas mais leves**\n"
   ]
  },
  {
   "cell_type": "code",
   "execution_count": 1,
   "metadata": {},
   "outputs": [],
   "source": [
    "lista = []"
   ]
  },
  {
   "cell_type": "code",
   "execution_count": 2,
   "metadata": {},
   "outputs": [],
   "source": [
    "while True:\n",
    "    nome = input(\"Nome: \")\n",
    "    peso = float(input(\"Peso: \"))\n",
    "    aux = [nome, peso]\n",
    "    lista.append(aux)\n",
    "    sair = input(\"Sair? <s>\")\n",
    "    if sair in 'sS':\n",
    "        break\n"
   ]
  },
  {
   "cell_type": "code",
   "execution_count": 3,
   "metadata": {},
   "outputs": [],
   "source": [
    "qtd_de_pessoas = len(lista)\n",
    "max = -99999\n",
    "min = 999999\n",
    "\n",
    "for i in range(qtd_de_pessoas):\n",
    "    if lista[i][1] > max:\n",
    "        max = lista[i][1]\n",
    "        pesado = lista[i][0]\n",
    "    if lista[i][1] < min:\n",
    "        min = lista[i][1]\n",
    "        leve = lista[i][0]\n"
   ]
  },
  {
   "cell_type": "code",
   "execution_count": 4,
   "metadata": {},
   "outputs": [
    {
     "name": "stdout",
     "output_type": "stream",
     "text": [
      "[['joao', 67.0], ['pedro', 78.5], ['maria', 35.9]]\n",
      "Mais pesado: pedro 78.5kg\n",
      "Mais leve: maria 35.9kg\n"
     ]
    }
   ],
   "source": [
    "\n",
    "print(lista)\n",
    "print(f\"Mais pesado: {pesado} {max}kg\")\n",
    "print(f\"Mais leve: {leve} {min}kg\")"
   ]
  },
  {
   "cell_type": "markdown",
   "metadata": {},
   "source": [
    "**7. Crie um programa onde o usuário possa digitar vários valores numéricos e cadastre-os em uma lista única que mantenha separados os valores pares e ímpares. Ao final mostre a lista completa.**"
   ]
  },
  {
   "cell_type": "code",
   "execution_count": 6,
   "metadata": {},
   "outputs": [],
   "source": [
    "valores = []"
   ]
  },
  {
   "cell_type": "code",
   "execution_count": 7,
   "metadata": {},
   "outputs": [],
   "source": [
    "while True:\n",
    "    entrada = input(\"Digite um valor numérico (ou 's' para sair): \")\n",
    "\n",
    "    if entrada.lower() == 's':\n",
    "        break\n",
    "\n",
    "    try:\n",
    "        valores.append(int(entrada))\n",
    "    except ValueError:\n",
    "        print(\"Por favor, digite um valor numérico válido.\")"
   ]
  },
  {
   "cell_type": "code",
   "execution_count": 8,
   "metadata": {},
   "outputs": [
    {
     "name": "stdout",
     "output_type": "stream",
     "text": [
      "\n",
      "Lista Completa: [5, 6, 4, 3, 8, 23]\n",
      "Valores Pares: [6, 4, 8]\n",
      "Valores Ímpares: [5, 3, 23]\n"
     ]
    }
   ],
   "source": [
    "pares = [v for v in valores if v % 2 == 0]\n",
    "impares = [v for v in valores if v % 2 != 0]\n",
    "\n",
    "print(\"\\nLista Completa:\", valores)\n",
    "print(\"Valores Pares:\", pares)\n",
    "print(\"Valores Ímpares:\", impares)"
   ]
  },
  {
   "cell_type": "markdown",
   "metadata": {},
   "source": [
    "**8. Crie um programa que represente uma matriz de dimensão 3x3 e preencha com valores lidos pelo teclado. Ao final mostre essa lista de valores com o formato de uma matriz.**"
   ]
  },
  {
   "cell_type": "code",
   "execution_count": 9,
   "metadata": {},
   "outputs": [],
   "source": [
    "matriz = []"
   ]
  },
  {
   "cell_type": "code",
   "execution_count": 10,
   "metadata": {},
   "outputs": [],
   "source": [
    "for i in range(3):\n",
    "    linha = []\n",
    "    for j in range(3):\n",
    "        valor = int(input(f\"Digite o valor para a posição ({i + 1}, {j + 1}): \"))\n",
    "        linha.append(valor)\n",
    "    matriz.append(linha)"
   ]
  },
  {
   "cell_type": "code",
   "execution_count": 11,
   "metadata": {},
   "outputs": [
    {
     "name": "stdout",
     "output_type": "stream",
     "text": [
      "\n",
      "Matriz 3x3:\n",
      "[5, 6, 2]\n",
      "[2, 1, 4]\n",
      "[7, 9, 8]\n"
     ]
    }
   ],
   "source": [
    "print(\"\\nMatriz 3x3:\")\n",
    "for linha in matriz:\n",
    "    print(linha)"
   ]
  },
  {
   "cell_type": "markdown",
   "metadata": {},
   "source": [
    "**9. Faça um programa para gerar jogos para a MEGA SENA. O programa vai perguntar quantos jogos o usuário deseja e vai sortear N jogos de 6 números aleatórios (entre 1 e 60) para cada jogo cadastrando tudo em uma lista composta ordenada.**"
   ]
  },
  {
   "cell_type": "code",
   "execution_count": 13,
   "metadata": {},
   "outputs": [],
   "source": [
    "import random"
   ]
  },
  {
   "cell_type": "code",
   "execution_count": 14,
   "metadata": {},
   "outputs": [],
   "source": [
    "num_jogos = int(input(\"Quantos jogos você deseja gerar? \"))"
   ]
  },
  {
   "cell_type": "code",
   "execution_count": 15,
   "metadata": {},
   "outputs": [
    {
     "name": "stdout",
     "output_type": "stream",
     "text": [
      "\n",
      "Jogos gerados:\n",
      "Jogo 1: [5, 18, 21, 29, 35, 50]\n",
      "Jogo 2: [1, 4, 7, 16, 32, 49]\n"
     ]
    }
   ],
   "source": [
    "print(\"\\nJogos gerados:\")\n",
    "for i in range(1, num_jogos + 1):\n",
    "    jogo = sorted(random.sample(range(1, 61), 6))\n",
    "    print(f\"Jogo {i}: {jogo}\")"
   ]
  },
  {
   "cell_type": "markdown",
   "metadata": {},
   "source": [
    "**10. Faça um programa para gerar um boletim da sua classe. O programa deve ler o nome e duas notas (N1 e N2) de cada aluno. Cadastre-os em uma lista composta e, ao final, mostre o nome, notas, média parcial e situação de cada aluno em formato boletim.**"
   ]
  },
  {
   "cell_type": "code",
   "execution_count": 16,
   "metadata": {},
   "outputs": [],
   "source": [
    "alunos = []"
   ]
  },
  {
   "cell_type": "code",
   "execution_count": 17,
   "metadata": {},
   "outputs": [],
   "source": [
    "num_alunos = int(input(\"Quantos alunos na sua classe? \"))"
   ]
  },
  {
   "cell_type": "code",
   "execution_count": 18,
   "metadata": {},
   "outputs": [],
   "source": [
    "for _ in range(num_alunos):\n",
    "    nome = input(\"Nome do aluno: \")\n",
    "    nota1 = float(input(\"Nota N1: \"))\n",
    "    nota2 = float(input(\"Nota N2: \"))\n",
    "    media = (nota1 + nota2) / 2\n",
    "    situacao = 'Aprovado' if media >= 6 else 'Reprovado'\n",
    "    alunos.append({'Nome': nome, 'Nota N1': nota1, 'Nota N2': nota2, 'Média': media, 'Situação': situacao})"
   ]
  },
  {
   "cell_type": "code",
   "execution_count": 19,
   "metadata": {},
   "outputs": [
    {
     "name": "stdout",
     "output_type": "stream",
     "text": [
      "\n",
      "Boletim:\n",
      "Nome: João victor, Nota N1: 5.7, Nota N2: 8.0, Média: 6.85, Situação: Aprovado\n",
      "Nome: Maria Paula, Nota N1: 2.0, Nota N2: 4.6, Média: 3.30, Situação: Reprovado\n"
     ]
    }
   ],
   "source": [
    "print(\"\\nBoletim:\")\n",
    "for aluno in alunos:\n",
    "    print(f\"Nome: {aluno['Nome']}, Nota N1: {aluno['Nota N1']}, Nota N2: {aluno['Nota N2']}, Média: {aluno['Média']:.2f}, Situação: {aluno['Situação']}\")"
   ]
  }
 ],
 "metadata": {
  "kernelspec": {
   "display_name": "Python 3",
   "language": "python",
   "name": "python3"
  },
  "language_info": {
   "codemirror_mode": {
    "name": "ipython",
    "version": 3
   },
   "file_extension": ".py",
   "mimetype": "text/x-python",
   "name": "python",
   "nbconvert_exporter": "python",
   "pygments_lexer": "ipython3",
   "version": "3.11.1"
  }
 },
 "nbformat": 4,
 "nbformat_minor": 2
}
