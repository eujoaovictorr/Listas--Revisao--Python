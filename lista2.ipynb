{
 "cells": [
  {
   "cell_type": "markdown",
   "metadata": {},
   "source": [
    "<h1 style=\"text-align: center\">INSTITUTO FEDERAL DO CEARÁ</h1>\n",
    "<h2 style=\"text-align: center\">CAMPUS MARANGUAPE</h2>\n",
    "<h3 style=\"text-align: center\">Programação Orientada a Objetos</h3>\n",
    "<h3 style=\"text-align: center\">Prof. Thomaz Maia</h3>\n",
    "<h1 style=\"text-align: center\">Lista de exercícios 2 - Strings</h1>"
   ]
  },
  {
   "cell_type": "markdown",
   "metadata": {},
   "source": [
    "**Aluno: João Victor Lima Gaspar**"
   ]
  },
  {
   "cell_type": "markdown",
   "metadata": {},
   "source": [
    "**1. Crie um programa que leia o nome completo de uma pessoa e mostre:**\n",
    "\n",
    "**(a) O nome com todas as letras maiúsculas.**\n",
    "\n",
    "**(b) O nome com todas as letras minúsculas.**\n",
    "\n",
    "**(c) Quantas letras tem o nome.**\n",
    "\n",
    "**(d) Quantas letras tem o primeiro nome.**"
   ]
  },
  {
   "cell_type": "code",
   "execution_count": 170,
   "metadata": {},
   "outputs": [],
   "source": [
    "nome = \"João Victor Lima Gaspar\"\n",
    "primeiro_nome = nome.split()\n",
    "tamanho_nome = len(nome.replace(\" \", \"\"))\n",
    "tamanho_primeiro_nome = len(primeiro_nome[0])"
   ]
  },
  {
   "cell_type": "code",
   "execution_count": 171,
   "metadata": {},
   "outputs": [
    {
     "name": "stdout",
     "output_type": "stream",
     "text": [
      "JOÃO VICTOR LIMA GASPAR\n",
      "joão victor lima gaspar\n",
      "O Nome completo tem 20 letras.\n",
      "O Primeiro nome tem 4 letras.\n"
     ]
    }
   ],
   "source": [
    "print(nome.upper())\n",
    "print(nome.lower())\n",
    "print(f\"O Nome completo tem {tamanho_nome} letras.\")\n",
    "print(f\"O Primeiro nome tem {tamanho_primeiro_nome} letras.\")"
   ]
  },
  {
   "cell_type": "markdown",
   "metadata": {},
   "source": [
    "**2. Faça um programa para ler um número de três dígitos e escreva separadamente centena, dezena\n",
    "e unidade.**"
   ]
  },
  {
   "cell_type": "code",
   "execution_count": 109,
   "metadata": {},
   "outputs": [],
   "source": [
    "num = int(input(\"Digite um número: \"))"
   ]
  },
  {
   "cell_type": "code",
   "execution_count": 110,
   "metadata": {},
   "outputs": [],
   "source": [
    "unidade = (num % 10)\n",
    "num = (num - unidade)/10\n",
    "\n",
    "dezena = (num % 10)\n",
    "num = (num - dezena)/10\n",
    "\n",
    "centena = num\n",
    "dezena = int(dezena)\n",
    "centena = int(centena)"
   ]
  },
  {
   "cell_type": "code",
   "execution_count": 111,
   "metadata": {},
   "outputs": [
    {
     "name": "stdout",
     "output_type": "stream",
     "text": [
      "Centena = 5\n",
      "Dezena = 7\n",
      "Unidade = 8\n"
     ]
    }
   ],
   "source": [
    "\n",
    "print(f\"Centena = {centena}\")\n",
    "print(f\"Dezena = {dezena}\")\n",
    "print(f\"Unidade = {unidade}\")"
   ]
  },
  {
   "cell_type": "markdown",
   "metadata": {},
   "source": [
    "**3. Crie um programa para ler um nome completo de uma pessoa e verificar se existe as palavras\n",
    "“de” ou “da” no nome.**"
   ]
  },
  {
   "cell_type": "code",
   "execution_count": 116,
   "metadata": {},
   "outputs": [],
   "source": [
    "nome_1 = input(\"Digite o seu nome: \")"
   ]
  },
  {
   "cell_type": "code",
   "execution_count": 117,
   "metadata": {},
   "outputs": [
    {
     "name": "stdout",
     "output_type": "stream",
     "text": [
      "A palavra 'de' ou 'da' não existe no nome 'João Victor Lima Gaspar'.\n"
     ]
    }
   ],
   "source": [
    "if (\"de\" or \"da\") not in nome_1:\n",
    "    print(f\"A palavra 'de' ou 'da' não existe no nome '{nome_1}'.\")\n",
    "else:\n",
    "    print(f\"A palavra 'de' ou 'da' existe no nome '{nome_1}'.\")\n",
    "\n"
   ]
  },
  {
   "cell_type": "markdown",
   "metadata": {},
   "source": [
    "**4. Faça um programa para receber uma frase e mostre quantas vezes aparece a letra ‘A’ (maiúscula ou minúscula) e em que posição aparece a primeira letra ‘A’.**"
   ]
  },
  {
   "cell_type": "code",
   "execution_count": 84,
   "metadata": {},
   "outputs": [],
   "source": [
    "frase = input(\"Digite uma frase: \")"
   ]
  },
  {
   "cell_type": "code",
   "execution_count": 98,
   "metadata": {},
   "outputs": [
    {
     "name": "stdout",
     "output_type": "stream",
     "text": [
      "Na frase 'a crainca' A letra 'A' ou 'a' aparece 3 vezes.\n",
      "A primeira letra 'A' aparecece na posição 0 pela primeira vez.\n"
     ]
    }
   ],
   "source": [
    "print(f\"Na frase '{frase}' A letra 'A' ou 'a' aparece {frase.upper().count('A')} vezes.\")\n",
    "print(f\"A primeira letra 'A' aparecece na posição {frase.find(('A' or 'a')) + 1} pela primeira vez.\")"
   ]
  },
  {
   "cell_type": "markdown",
   "metadata": {},
   "source": [
    "**5. Crie um programa para receber o nome completo de uma pessoa e mostre separadamente o primeiro e o último nome dessa pessoa.**"
   ]
  },
  {
   "cell_type": "code",
   "execution_count": 50,
   "metadata": {},
   "outputs": [],
   "source": [
    "nome = input(\"Digite seu nome: \")\n",
    "nome_separacao = nome.split()"
   ]
  },
  {
   "cell_type": "code",
   "execution_count": 51,
   "metadata": {},
   "outputs": [
    {
     "name": "stdout",
     "output_type": "stream",
     "text": [
      "O nome que você digitou é 'João Victor Lima Gaspar', seu primeiro nome é João\n",
      "E o seu último nome é Gaspar \n"
     ]
    }
   ],
   "source": [
    "print(f\"O nome que você digitou é '{nome}', seu primeiro nome é {nome_separacao[0]}\")\n",
    "print(f\"E o seu último nome é {nome_separacao[len(nome_separacao) - 1]} \")"
   ]
  }
 ],
 "metadata": {
  "kernelspec": {
   "display_name": "Python 3",
   "language": "python",
   "name": "python3"
  },
  "language_info": {
   "codemirror_mode": {
    "name": "ipython",
    "version": 3
   },
   "file_extension": ".py",
   "mimetype": "text/x-python",
   "name": "python",
   "nbconvert_exporter": "python",
   "pygments_lexer": "ipython3",
   "version": "3.11.1"
  }
 },
 "nbformat": 4,
 "nbformat_minor": 2
}
