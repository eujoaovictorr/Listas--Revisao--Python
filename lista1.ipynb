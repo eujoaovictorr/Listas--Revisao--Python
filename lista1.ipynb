{
 "cells": [
  {
   "cell_type": "markdown",
   "metadata": {},
   "source": [
    "<h1 style=\"text-align: center\">INSTITUTO FEDERAL DO CEARÁ</h1>\n",
    "<h2 style=\"text-align: center\">CAMPUS MARANGUAPE</h2>\n",
    "<h3 style=\"text-align: center\">Programação Orientada a Objetos</h3>\n",
    "<h3 style=\"text-align: center\">Prof. Thomaz Maia</h3>\n",
    "<h1 style=\"text-align: center\">Lista de Exercícios 1 - Funcões</h1>"
   ]
  },
  {
   "cell_type": "markdown",
   "metadata": {},
   "source": [
    "**Aluno: João Victor Lima Gaspar**"
   ]
  },
  {
   "cell_type": "markdown",
   "metadata": {},
   "source": [
    "**1. Crie uma função para fazer um menu de calculadora chamada escreve_menu.**"
   ]
  },
  {
   "cell_type": "code",
   "execution_count": 6,
   "metadata": {},
   "outputs": [],
   "source": [
    "def escreve_menu():\n",
    "    print(\"---- Calculadora Das Operações Básicas ----\")\n",
    "    print(\"Opções: \")\n",
    "    print(\"--------\")\n",
    "    print(\"[0] Sair\")\n",
    "    print(\"[1] Somar\")\n",
    "    print(\"[2] Subtrair\")\n",
    "    print(\"[3] Multiplicar\")\n",
    "    print(\"[4] Dividir\")\n",
    "    print(\"-\" * 19)\n",
    "    opcao = int(input(\"Insira a opçao que deseja: \"))\n",
    "    return opcao"
   ]
  },
  {
   "cell_type": "code",
   "execution_count": 7,
   "metadata": {},
   "outputs": [
    {
     "name": "stdout",
     "output_type": "stream",
     "text": [
      "---- Calculadora Das Operações Básicas ----\n",
      "Opções: \n",
      "--------\n",
      "[0] Sair\n",
      "[1] Somar\n",
      "[2] Subtrair\n",
      "[3] Multiplicar\n",
      "[4] Dividir\n",
      "-------------------\n",
      "3\n"
     ]
    }
   ],
   "source": [
    "print(escreve_menu())"
   ]
  },
  {
   "cell_type": "markdown",
   "metadata": {},
   "source": [
    "**2. Crie uma função que receba dois números e mostre o resultado das quatro operações básicas.**"
   ]
  },
  {
   "cell_type": "code",
   "execution_count": 8,
   "metadata": {},
   "outputs": [],
   "source": [
    "def calc_operacoes(num_1, num_2):\n",
    "    print(f\"Soma = {num_1 + num_2}\")\n",
    "    print(f\"Subtração = {num_1 - num_2}\")\n",
    "    print(f\"Multiplicação = {num_1 * num_2}\")\n",
    "    print(f\"Divisão = {num_1 / num_2}\")"
   ]
  },
  {
   "cell_type": "code",
   "execution_count": 9,
   "metadata": {},
   "outputs": [
    {
     "name": "stdout",
     "output_type": "stream",
     "text": [
      "Soma = 20\n",
      "Subtração = 10\n",
      "Multiplicação = 75\n",
      "Divisão = 3.0\n"
     ]
    }
   ],
   "source": [
    "calc_operacoes(15, 5)"
   ]
  },
  {
   "cell_type": "markdown",
   "metadata": {},
   "source": [
    "**3. Crie quatro funções para as quatro operações básicas. Essas funções devem receber dois valores e retornar o resultado. Escreva esse resultado.**"
   ]
  },
  {
   "cell_type": "code",
   "execution_count": 10,
   "metadata": {},
   "outputs": [],
   "source": [
    "def somar(num_1, num_2):\n",
    "    return num_1 + num_2"
   ]
  },
  {
   "cell_type": "code",
   "execution_count": 11,
   "metadata": {},
   "outputs": [],
   "source": [
    "def subtrair(num_1, num_2):\n",
    "    return num_1 - num_2"
   ]
  },
  {
   "cell_type": "code",
   "execution_count": 12,
   "metadata": {},
   "outputs": [],
   "source": [
    "def multiplicar(num_1, num_2):\n",
    "    return num_1 * num_2"
   ]
  },
  {
   "cell_type": "code",
   "execution_count": 13,
   "metadata": {},
   "outputs": [],
   "source": [
    "def dividir(num_1, num_2):\n",
    "    return num_1 / num_2"
   ]
  },
  {
   "cell_type": "code",
   "execution_count": 14,
   "metadata": {},
   "outputs": [
    {
     "name": "stdout",
     "output_type": "stream",
     "text": [
      "12\n",
      "4\n",
      "84\n",
      "3.0\n"
     ]
    }
   ],
   "source": [
    "print(somar(5, 7))\n",
    "print(subtrair(10, 6))\n",
    "print(multiplicar(12, 7))\n",
    "print(dividir(15, 5))"
   ]
  }
 ],
 "metadata": {
  "kernelspec": {
   "display_name": "Python 3",
   "language": "python",
   "name": "python3"
  },
  "language_info": {
   "codemirror_mode": {
    "name": "ipython",
    "version": 3
   },
   "file_extension": ".py",
   "mimetype": "text/x-python",
   "name": "python",
   "nbconvert_exporter": "python",
   "pygments_lexer": "ipython3",
   "version": "3.11.1"
  }
 },
 "nbformat": 4,
 "nbformat_minor": 2
}
